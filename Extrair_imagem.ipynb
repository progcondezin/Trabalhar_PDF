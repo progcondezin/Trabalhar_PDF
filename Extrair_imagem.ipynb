{
 "cells": [
  {
   "cell_type": "code",
   "execution_count": 2,
   "metadata": {},
   "outputs": [],
   "source": [
    "from PyPDF2 import PdfReader\n",
    "\n",
    "reader = PdfReader(\"example.pdf\")\n",
    "\n",
    "page = reader.pages[0]\n",
    "count = 0\n",
    "\n",
    "for image_file_object in page.images:\n",
    "    with open(str(count) + image_file_object.name, \"wb\") as fp:\n",
    "        fp.write(image_file_object.data)\n",
    "        count += 1"
   ]
  },
  {
   "cell_type": "code",
   "execution_count": null,
   "metadata": {},
   "outputs": [],
   "source": []
  }
 ],
 "metadata": {
  "kernelspec": {
   "display_name": "Python 3.8.8 ('base')",
   "language": "python",
   "name": "python3"
  },
  "language_info": {
   "codemirror_mode": {
    "name": "ipython",
    "version": 3
   },
   "file_extension": ".py",
   "mimetype": "text/x-python",
   "name": "python",
   "nbconvert_exporter": "python",
   "pygments_lexer": "ipython3",
   "version": "3.8.8"
  },
  "orig_nbformat": 4,
  "vscode": {
   "interpreter": {
    "hash": "1c72a097f30d6d3641b42a0459290e8836756fb8f87dcb84ba3a2924eed02fac"
   }
  }
 },
 "nbformat": 4,
 "nbformat_minor": 2
}
